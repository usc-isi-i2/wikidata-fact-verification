{
 "cells": [
  {
   "cell_type": "code",
   "execution_count": 1,
   "metadata": {
    "pycharm": {
     "name": "#%%\n"
    }
   },
   "outputs": [
    {
     "name": "stdout",
     "output_type": "stream",
     "text": [
      "User home: /nas/home/akthakur\n",
      "Current dir: /data/table-understanding/wikidata-fact-verification\n",
      "KGTK dir: /data/table-understanding\n",
      "Use-cases dir: /data/table-understanding/use-cases\n"
     ]
    }
   ],
   "source": [
    "import os\n",
    "import os.path\n",
    "from kgtk.configure_kgtk_notebooks import ConfigureKGTK\n",
    "from kgtk.functions import kypher\n",
    "\n",
    "input_path = None\n",
    "output_path = '/data/table-understanding/tmp'\n",
    "project_name = 'wikidata_fact_verification'\n",
    "\n",
    "additional_files = {}\n",
    "\n",
    "ck = ConfigureKGTK([])\n",
    "ck.configure_kgtk(input_graph_path=input_path, \n",
    "                  output_path=output_path, \n",
    "                  project_name=project_name,\n",
    "                  additional_files=additional_files)"
   ]
  },
  {
   "cell_type": "markdown",
   "metadata": {
    "pycharm": {
     "name": "#%% md\n"
    }
   },
   "source": [
    "## Get intersection of wikidata and dbpedia facts"
   ]
  },
  {
   "cell_type": "code",
   "execution_count": null,
   "metadata": {
    "pycharm": {
     "name": "#%%\n"
    }
   },
   "outputs": [],
   "source": [
    "kypher(\"\"\"\n",
    "    -i ../claims.wikibase-item.tsv.gz --as wiki\n",
    "    -i ../wikidata_infobox.tsv --as dbp\n",
    "    -i /data/table-understanding/labels.en.tsv.gz --as labels\n",
    "    --match 'wiki:(p1)-[:P26]->(p2),\n",
    "            dbp:(p1)-[:`property:spouse`]->(p3),\n",
    "            labels:(p1)-[]->(n1_label),\n",
    "            labels:(p2)-[]->(n2_label)'\n",
    "    --where 'p2 = p3'\n",
    "    --return 'distinct p1 as person, kgtk_lqstring_text(n1_label) as name, p2 as spouse, kgtk_lqstring_text(n2_label) as spouse_name'\n",
    "    -o fact_verification_data.tsv\n",
    "\"\"\")"
   ]
  },
  {
   "cell_type": "markdown",
   "metadata": {
    "pycharm": {
     "name": "#%% md\n"
    }
   },
   "source": [
    "## Get wikidata spouse data"
   ]
  },
  {
   "cell_type": "code",
   "execution_count": 4,
   "metadata": {
    "pycharm": {
     "name": "#%%\n"
    }
   },
   "outputs": [
    {
     "name": "stdout",
     "output_type": "stream",
     "text": [
      "CPU times: user 17.1 ms, sys: 15.2 ms, total: 32.3 ms\n",
      "Wall time: 21.6 s\n"
     ]
    }
   ],
   "source": [
    "%%time\n",
    "kypher(\"\"\"\n",
    "    -i ../claims.wikibase-item.tsv.gz --as wiki\n",
    "    -i /data/table-understanding/labels.en.tsv.gz --as labels\n",
    "    --match 'wiki:(p1)-[:P26]->(p2),\n",
    "            labels:(p1)-[]->(n1_label),\n",
    "            labels:(p2)-[]->(n2_label)'\n",
    "    --return 'distinct p1 as person, kgtk_lqstring_text(n1_label) as name, p2 as spouse, kgtk_lqstring_text(n2_label) as spouse_name'\n",
    "    -o wiki_spouse_data.tsv\n",
    "\"\"\")"
   ]
  },
  {
   "cell_type": "markdown",
   "metadata": {
    "pycharm": {
     "name": "#%% md\n"
    }
   },
   "source": [
    "## Get dbpedia spouse data"
   ]
  },
  {
   "cell_type": "code",
   "execution_count": 5,
   "metadata": {
    "pycharm": {
     "name": "#%%\n"
    }
   },
   "outputs": [],
   "source": [
    "%%time\n",
    "kypher(\"\"\"\n",
    "    -i ../wikidata_infobox.tsv --as dbp\n",
    "    -i /data/table-understanding/labels.en.tsv.gz --as labels\n",
    "    --match 'dbp:(p1)-[:`property:spouse`]->(p2),\n",
    "            labels:(p1)-[]->(n1_label),\n",
    "            labels:(p2)-[]->(n2_label)'\n",
    "    --return 'distinct p1 as person, kgtk_lqstring_text(n1_label) as name, p2 as spouse, kgtk_lqstring_text(n2_label) as spouse_name'\n",
    "    -o dbpedia_spouse_data.tsv\n",
    "\"\"\")"
   ]
  },
  {
   "cell_type": "markdown",
   "metadata": {
    "pycharm": {
     "name": "#%% md\n"
    }
   },
   "source": [
    "## Present in db pedia not in Wikidata"
   ]
  },
  {
   "cell_type": "code",
   "execution_count": 42,
   "metadata": {
    "pycharm": {
     "name": "#%%\n"
    }
   },
   "outputs": [
    {
     "data": {
      "text/plain": [
       "7316"
      ]
     },
     "execution_count": 42,
     "metadata": {},
     "output_type": "execute_result"
    }
   ],
   "source": [
    "with open('./wiki_spouse_data.tsv', 'r') as f_wiki, open('./dbpedia_spouse_data.tsv', 'r') as f_dbp:\n",
    "    dbp_lines = f_dbp.readlines()\n",
    "    wiki_lines = f_wiki.readlines()\n",
    "    \n",
    "    only_dbp_spouse_data = [dbp_lines[0]] + list(set(dbp_lines) - set(wiki_lines))\n",
    "\n",
    "len(only_dbp_spouse_data)"
   ]
  },
  {
   "cell_type": "code",
   "execution_count": 44,
   "metadata": {
    "pycharm": {
     "name": "#%%\n"
    }
   },
   "outputs": [],
   "source": [
    "with open('only_dbp_spouse_data.tsv', 'w') as f:\n",
    "    for line in only_dbp_spouse_data:\n",
    "        f.write(line)"
   ]
  }
 ],
 "metadata": {
  "kernelspec": {
   "display_name": "Python 3.8.13 ('pyserini')",
   "language": "python",
   "name": "python3"
  },
  "language_info": {
   "codemirror_mode": {
    "name": "ipython",
    "version": 3
   },
   "file_extension": ".py",
   "mimetype": "text/x-python",
   "name": "python",
   "nbconvert_exporter": "python",
   "pygments_lexer": "ipython3",
   "version": "3.8.13"
  },
  "orig_nbformat": 4,
  "vscode": {
   "interpreter": {
    "hash": "df805160690319c15af0034e91734fff61e623b15638befb08d95652d31bab6c"
   }
  }
 },
 "nbformat": 4,
 "nbformat_minor": 2
}
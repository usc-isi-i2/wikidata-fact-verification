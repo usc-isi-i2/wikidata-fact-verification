{
 "cells": [
  {
   "cell_type": "code",
   "execution_count": 3,
   "outputs": [],
   "source": [
    "import json"
   ],
   "metadata": {
    "collapsed": false,
    "pycharm": {
     "name": "#%%\n"
    }
   }
  },
  {
   "cell_type": "code",
   "execution_count": 83,
   "outputs": [],
   "source": [
    "train_data_wiki = json.load(open('../data/unlabelled/train_fact_verification_support_data.json'))\n",
    "\n",
    "test_data_common = json.load(open('../data/unlabelled/gt_fact_verification_support_data.json'))\n",
    "test_data_only_dbp = json.load(open('../data/unlabelled/gt_only_dbp_support_data.json'))\n",
    "test_data = test_data_common + test_data_only_dbp"
   ],
   "metadata": {
    "collapsed": false,
    "pycharm": {
     "name": "#%%\n"
    }
   }
  },
  {
   "cell_type": "code",
   "execution_count": 84,
   "outputs": [],
   "source": [
    "from transformers import pipeline\n",
    "\n",
    "# Replace this with your own checkpoint\n",
    "model_checkpoint = \"huggingface-course/bert-finetuned-ner\"\n",
    "token_classifier = pipeline(\"token-classification\", model=model_checkpoint, aggregation_strategy=\"simple\")"
   ],
   "metadata": {
    "collapsed": false,
    "pycharm": {
     "name": "#%%\n"
    }
   }
  },
  {
   "cell_type": "code",
   "execution_count": 85,
   "outputs": [
    {
     "name": "stdout",
     "output_type": "stream",
     "text": [
      "Total persons in test facts: 396\n"
     ]
    }
   ],
   "source": [
    "test_data_persons = set()\n",
    "for data in test_data:\n",
    "    for person in data['pair']:\n",
    "        test_data_persons.add(person)\n",
    "\n",
    "print(f'Total persons in test facts: {len(test_data_persons)}')"
   ],
   "metadata": {
    "collapsed": false,
    "pycharm": {
     "name": "#%%\n"
    }
   }
  },
  {
   "cell_type": "code",
   "execution_count": 91,
   "outputs": [
    {
     "name": "stderr",
     "output_type": "stream",
     "text": [
      "100%|██████████| 2000/2000 [05:05<00:00,  6.55it/s]\n"
     ]
    }
   ],
   "source": [
    "from tqdm import tqdm\n",
    "from random import shuffle\n",
    "from collections import defaultdict\n",
    "\n",
    "train_facts = []\n",
    "for data in tqdm(train_data):\n",
    "    person_one, person_two = data['pair']\n",
    "    if any((person in test_data_persons) for person in data['pair']):\n",
    "        continue\n",
    "\n",
    "    for support in data['supports']:\n",
    "        other_persons = []\n",
    "        pair_names = defaultdict(list)\n",
    "\n",
    "        evidence = support['content'].replace('\\n', ' ')\n",
    "        entities = token_classifier(evidence)\n",
    "\n",
    "        for entity in entities:\n",
    "            if entity['entity_group'] != 'PER':\n",
    "                continue\n",
    "\n",
    "            person_name = entity['word']\n",
    "            if person_one in person_name or person_name in person_one:\n",
    "                pair_names[person_one].append(person_name)\n",
    "                continue\n",
    "\n",
    "            if person_two in person_name or person_name in person_two:\n",
    "                pair_names[person_two].append(person_name)\n",
    "                continue\n",
    "\n",
    "            other_persons.append(person_name)\n",
    "\n",
    "        person_one_names, person_two_names = pair_names[person_one], pair_names[person_two]\n",
    "        shuffle(person_one_names), shuffle(person_two_names), shuffle(other_persons)\n",
    "        if all(v for v in pair_names.values()):\n",
    "            train_facts.append({'input': f'Is {person_one} married with {person_two}?\\n{evidence}', 'output': 'yes'})\n",
    "            train_facts.append({'input': f'Is {person_two} married with {person_one}?\\n{evidence}', 'output': 'yes'})\n",
    "\n",
    "            if person_one_names[0] != person_one or person_two_names[0] != person_two:\n",
    "                train_facts.append({'input': f'Is {person_one_names[0]} married with {person_two_names[0]}?\\n{evidence}', 'output': 'yes'})\n",
    "                train_facts.append({'input': f'Is {person_two_names[0]} married with {person_one_names[0]}?\\n{evidence}', 'output': 'yes'})\n",
    "\n",
    "        else:\n",
    "            train_facts.append({'input': f'Is {person_one} married with {person_two}?\\n{evidence}', 'output': 'no'})\n",
    "            train_facts.append({'input': f'Is {person_two} married with {person_one}?\\n{evidence}', 'output': 'no'})\n",
    "\n",
    "\n",
    "        if len(other_persons) >= 2:\n",
    "            train_facts.append({'input': f'Is {other_persons[0]} married with {other_persons[1]}?\\n{evidence}', 'output': 'no'})\n",
    "            train_facts.append({'input': f'Is {other_persons[1]} married with {other_persons[0]}?\\n{evidence}', 'output': 'no'})\n"
   ],
   "metadata": {
    "collapsed": false,
    "pycharm": {
     "name": "#%%\n"
    }
   }
  },
  {
   "cell_type": "code",
   "execution_count": 92,
   "outputs": [],
   "source": [
    "json.dump(train_facts, open('../data/unifiedQA/train.json', 'w'))"
   ],
   "metadata": {
    "collapsed": false,
    "pycharm": {
     "name": "#%%\n"
    }
   }
  },
  {
   "cell_type": "code",
   "execution_count": 93,
   "outputs": [
    {
     "data": {
      "text/plain": "(16548, 7582, 8966, 0)"
     },
     "execution_count": 93,
     "metadata": {},
     "output_type": "execute_result"
    }
   ],
   "source": [
    "pos_count = len([fact for fact in train_facts if fact['output'] == 'yes'])\n",
    "neg_count = len([fact for fact in train_facts if fact['output'] == 'no'])\n",
    "total = len(train_facts)\n",
    "\n",
    "total, pos_count, neg_count, total - (pos_count + neg_count)"
   ],
   "metadata": {
    "collapsed": false,
    "pycharm": {
     "name": "#%%\n"
    }
   }
  },
  {
   "cell_type": "code",
   "execution_count": null,
   "outputs": [],
   "source": [],
   "metadata": {
    "collapsed": false,
    "pycharm": {
     "name": "#%%\n"
    }
   }
  }
 ],
 "metadata": {
  "kernelspec": {
   "display_name": "Python 3",
   "language": "python",
   "name": "python3"
  },
  "language_info": {
   "codemirror_mode": {
    "name": "ipython",
    "version": 2
   },
   "file_extension": ".py",
   "mimetype": "text/x-python",
   "name": "python",
   "nbconvert_exporter": "python",
   "pygments_lexer": "ipython2",
   "version": "2.7.6"
  }
 },
 "nbformat": 4,
 "nbformat_minor": 0
}
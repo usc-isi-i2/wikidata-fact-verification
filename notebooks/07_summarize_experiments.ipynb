{
 "cells": [
  {
   "cell_type": "code",
   "execution_count": 1,
   "metadata": {
    "collapsed": true,
    "pycharm": {
     "name": "#%%\n"
    }
   },
   "outputs": [],
   "source": [
    "import os"
   ]
  },
  {
   "cell_type": "code",
   "execution_count": 2,
   "outputs": [],
   "source": [
    "metric_indexes = {\n",
    "    'Precision': 2,\n",
    "    'Recall': 3,\n",
    "    'F1': 4,\n",
    "    'Accuracy': 5\n",
    "}"
   ],
   "metadata": {
    "collapsed": false,
    "pycharm": {
     "name": "#%%\n"
    }
   }
  },
  {
   "cell_type": "code",
   "execution_count": 12,
   "outputs": [],
   "source": [
    "for metric_name, metric_index in metric_indexes.items():\n",
    "    summary = []\n",
    "    for file in os.listdir('../experiments'):\n",
    "        best_value, best_metrics = 0, None\n",
    "        with open('../experiments/' + file) as f:\n",
    "            lines = f.readlines()\n",
    "            for line in lines[4:]:\n",
    "                metrics = line.strip().split('\\t')\n",
    "                if metrics[0] == 'eval':\n",
    "                    eval_value = float(metrics[metric_index])\n",
    "                    if eval_value > best_value:\n",
    "                        best_value = eval_value\n",
    "                        best_metrics = metrics\n",
    "\n",
    "        summary.append((file, best_metrics))\n",
    "\n",
    "    summary = sorted(summary, key=lambda x: float(x[1][metric_index]), reverse=True)\n",
    "    with open(f'../summaries/{metric_name}.tsv', 'w') as f:\n",
    "        f.write('\\t'.join(['Description', 'Dataset','Epoch', 'Precision', 'Recall', 'F1', 'Accuracy']) + '\\n')\n",
    "        for entry in summary:\n",
    "            f.write('\\t'.join([entry[0]] + list(entry[1])) + '\\n')"
   ],
   "metadata": {
    "collapsed": false,
    "pycharm": {
     "name": "#%%\n"
    }
   }
  }
 ],
 "metadata": {
  "kernelspec": {
   "display_name": "Python 3",
   "language": "python",
   "name": "python3"
  },
  "language_info": {
   "codemirror_mode": {
    "name": "ipython",
    "version": 2
   },
   "file_extension": ".py",
   "mimetype": "text/x-python",
   "name": "python",
   "nbconvert_exporter": "python",
   "pygments_lexer": "ipython2",
   "version": "2.7.6"
  }
 },
 "nbformat": 4,
 "nbformat_minor": 0
}
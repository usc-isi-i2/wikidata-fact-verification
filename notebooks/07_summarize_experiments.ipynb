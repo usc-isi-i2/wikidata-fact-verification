{
 "cells": [
  {
   "cell_type": "code",
   "execution_count": 1,
   "metadata": {
    "collapsed": true,
    "pycharm": {
     "name": "#%%\n"
    }
   },
   "outputs": [],
   "source": [
    "import os"
   ]
  },
  {
   "cell_type": "code",
   "execution_count": 39,
   "outputs": [],
   "source": [
    "summary = []\n",
    "for file in os.listdir('../experiments'):\n",
    "    best_accuracy, best_metrics = 0, None\n",
    "    with open('../experiments/' + file) as f:\n",
    "        lines = f.readlines()\n",
    "        for line in lines[4:]:\n",
    "            metrics = line.strip().split('\\t')\n",
    "            if metrics[0] == 'eval':\n",
    "                eval_accuracy = float(metrics[-1])\n",
    "                if eval_accuracy > best_accuracy:\n",
    "                    best_accuracy = eval_accuracy\n",
    "                    best_metrics = metrics\n",
    "\n",
    "    # print('-'*20)\n",
    "    # print(file)\n",
    "    # print(best_metrics)\n",
    "    summary.append((file, best_metrics))"
   ],
   "metadata": {
    "collapsed": false,
    "pycharm": {
     "name": "#%%\n"
    }
   }
  },
  {
   "cell_type": "code",
   "execution_count": 40,
   "outputs": [],
   "source": [
    "summary = sorted(summary, key=lambda x: float(x[-1][-1]) , reverse=True)"
   ],
   "metadata": {
    "collapsed": false,
    "pycharm": {
     "name": "#%%\n"
    }
   }
  },
  {
   "cell_type": "code",
   "execution_count": 41,
   "outputs": [
    {
     "name": "stdout",
     "output_type": "stream",
     "text": [
      "[('model-base_train-train_direct_2000_train-batch-16_epochs-20.log', ['eval', '0', '0.9464285714285714', '0.9636363636363636', '0.9549549549549549', '0.95']), ('model-base_train-train_direct_1000_train-batch-16_epochs-20.log', ['eval', '1', '0.9629629629629629', '0.9454545454545454', '0.9541284403669724', '0.95']), ('model-base_train-train_direct_500_train-batch-16_epochs-20.log', ['eval', '5', '0.9459459459459459', '0.9545454545454546', '0.9502262443438914', '0.945']), ('model-base_train-train_direct_2000_train-batch-8_epochs-20.log', ['eval', '0', '0.9380530973451328', '0.9636363636363636', '0.9506726457399104', '0.945']), ('model-base_train-train_direct_2000_train-batch-32_epochs-20.log', ['eval', '4', '0.9304347826086956', '0.9727272727272728', '0.9511111111111111', '0.945']), ('model-base_train-train_direct_4000_train-batch-16_epochs-20.log', ['eval', '0', '0.9304347826086956', '0.9727272727272728', '0.9511111111111111', '0.945']), ('model-base_train-train_direct_5208_train-batch-16_epochs-20.log', ['eval', '2', '0.9304347826086956', '0.9727272727272728', '0.9511111111111111', '0.945']), ('model-base_train-train_indirect_pos_2000_train-batch-8_epochs-20.log', ['eval', '1', '0.9224137931034483', '0.9727272727272728', '0.9469026548672567', '0.94']), ('model-small_train-train_direct_2000_train-batch-4_epochs-20.log', ['eval', '8', '0.9369369369369369', '0.9454545454545454', '0.9411764705882352', '0.935']), ('model-large_train-train_direct_2000_train-batch-4_epochs-20.log', ['eval', '9', '0.9008264462809917', '0.990909090909091', '0.9437229437229437', '0.935']), ('model-small_train-train_direct_2000_train-batch-16_epochs-20.log', ['eval', '5', '0.9528301886792453', '0.9181818181818182', '0.9351851851851851', '0.93']), ('model-base_train-train_indirect_neg_2000_train-batch-8_epochs-20.log', ['eval', '0', '0.9444444444444444', '0.9272727272727272', '0.9357798165137615', '0.93']), ('model-base_train-train_all_2000_train-batch-8_epochs-20.log', ['eval', '6', '0.9130434782608695', '0.9545454545454546', '0.9333333333333332', '0.925']), ('model-small_train-train_direct_2000_train-batch-8_epochs-20.log', ['eval', '0', '0.905982905982906', '0.9636363636363636', '0.9339207048458149', '0.925']), ('model-base_train-train_direct_2000_train-batch-4_epochs-20.log', ['eval', '4', '0.9351851851851852', '0.9181818181818182', '0.9266055045871558', '0.92']), ('model-base_train-train_direct_2000_train-batch-2_epochs-20.log', ['eval', '4', '0.860655737704918', '0.9545454545454546', '0.9051724137931034', '0.89'])]\n"
     ]
    }
   ],
   "source": [
    "print(summary)"
   ],
   "metadata": {
    "collapsed": false,
    "pycharm": {
     "name": "#%%\n"
    }
   }
  },
  {
   "cell_type": "code",
   "execution_count": null,
   "outputs": [],
   "source": [],
   "metadata": {
    "collapsed": false,
    "pycharm": {
     "name": "#%%\n"
    }
   }
  }
 ],
 "metadata": {
  "kernelspec": {
   "display_name": "Python 3",
   "language": "python",
   "name": "python3"
  },
  "language_info": {
   "codemirror_mode": {
    "name": "ipython",
    "version": 2
   },
   "file_extension": ".py",
   "mimetype": "text/x-python",
   "name": "python",
   "nbconvert_exporter": "python",
   "pygments_lexer": "ipython2",
   "version": "2.7.6"
  }
 },
 "nbformat": 4,
 "nbformat_minor": 0
}
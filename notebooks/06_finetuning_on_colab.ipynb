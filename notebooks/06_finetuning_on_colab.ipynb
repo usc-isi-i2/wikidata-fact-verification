{
 "nbformat": 4,
 "nbformat_minor": 0,
 "metadata": {
  "colab": {
   "name": "FineTune_unifiedQA_base_all_2000.ipynb",
   "provenance": [
    {
     "file_id": "1N6B_2W2YCJHSKDIUweXo7CsP07x2nV7r",
     "timestamp": 1659341814667
    },
    {
     "file_id": "1SzU4Ys8NoZ8PZUoe1vf9voj5nXLZlInp",
     "timestamp": 1659329421665
    }
   ],
   "collapsed_sections": [],
   "machine_shape": "hm",
   "authorship_tag": "ABX9TyNOOHCvdGpXOeKvxZjdmGYE"
  },
  "kernelspec": {
   "name": "python3",
   "display_name": "Python 3"
  },
  "language_info": {
   "name": "python"
  },
  "accelerator": "GPU",
  "gpuClass": "standard"
 },
 "cells": [
  {
   "cell_type": "code",
   "execution_count": null,
   "outputs": [],
   "source": [
    "# Setup\n",
    "!pip install transformers[sentencepiece] > install_transformers.log\n",
    "!pip install accelerate > install_accelerator.log\n",
    "!git clone https://github.com/abhinav-kumar-thakur/wikidata-fact-verification.git"
   ],
   "metadata": {
    "collapsed": false,
    "pycharm": {
     "name": "#%%\n"
    }
   }
  },
  {
   "cell_type": "code",
   "execution_count": null,
   "outputs": [],
   "source": [
    "%cd wikidata-fact-verification/"
   ],
   "metadata": {
    "collapsed": false,
    "pycharm": {
     "name": "#%%\n"
    }
   }
  },
  {
   "cell_type": "code",
   "source": [
    "!python train.py --model_size=small --train_dataset=train_direct_500 --train_batch_size=1 --eval_batch_size=1 --epochs=1"
   ],
   "metadata": {
    "colab": {
     "base_uri": "https://localhost:8080/"
    },
    "id": "yr48xXZ8X1iU",
    "outputId": "2d8f3b31-c0bd-4fb4-8a92-7505fc9a8ff4",
    "executionInfo": {
     "status": "ok",
     "timestamp": 1659381717302,
     "user_tz": 420,
     "elapsed": 30967,
     "user": {
      "displayName": "Abhinav Kumar Kumar",
      "userId": "00572025504427350662"
     }
    },
    "pycharm": {
     "name": "#%%\n"
    }
   },
   "execution_count": 3,
   "outputs": [
    {
     "name": "stdout",
     "output_type": "stream",
     "text": [
      "Running on device: cpu\r\n",
      "--------------------------------------------------\r\n",
      "Run configurations: model=allenai/unifiedqa-v2-t5-small-1251000 train=./data/unifiedQA/train_direct_500.json eval=./data/unifiedQA/test.json train_batch=1 eval_batch=1 epochs=1\r\n",
      "--------------------------------------------------\r\n",
      "Pre fine-tuning evaluations:\r\n",
      "Evaluating dataset: train\r\n",
      "100%|█████████████████████████████████████████| 500/500 [00:26<00:00, 19.00it/s]\r\n",
      "\r\n",
      "precision: 0.6551724137931034, recall: 0.9193548387096774, F1: 0.7651006711409396, accuracy: 0.71\r\n",
      "----------\r\n",
      "Evaluating dataset: eval\r\n",
      "100%|█████████████████████████████████████████| 200/200 [00:10<00:00, 19.21it/s]\r\n",
      "\r\n",
      "precision: 0.6858974358974359, recall: 0.9727272727272728, F1: 0.8045112781954887, accuracy: 0.74\r\n",
      "--------------------------------------------------\r\n",
      "--------------------------------------------------\r\n",
      "Starting training: epoch 0\r\n",
      "100%|█████████████████████████████████████████| 500/500 [02:29<00:00,  3.35it/s]\r\n",
      "\r\n",
      "Total loss: epoch 0: 182.70440279540875\r\n",
      "----------\r\n",
      "Evaluating dataset: train\r\n",
      "100%|█████████████████████████████████████████| 500/500 [00:21<00:00, 23.50it/s]\r\n",
      "\r\n",
      "precision: 0.6613756613756614, recall: 1.0, F1: 0.7961783439490446, accuracy: 0.744\r\n",
      "----------\r\n",
      "Evaluating dataset: eval\r\n",
      "100%|█████████████████████████████████████████| 200/200 [00:08<00:00, 23.50it/s]\r\n",
      "\r\n",
      "precision: 0.6214689265536724, recall: 1.0, F1: 0.7665505226480837, accuracy: 0.665\r\n",
      "Saving model with accuracy: 0.665 on eval at epoch 0\r\n",
      "Traceback (most recent call last):\r\n",
      "  File \"train.py\", line 61, in <module>\r\n",
      "    trainer.evaluate(epoch, 'eval', trainer.evaluation_dataset, logfile)\r\n",
      "  File \"/Users/vision/projects/abhinav-kumar-thakur/wikidata-fact-verification/src/unifiedqa_trainer.py\", line 86, in evaluate\r\n",
      "    results_df.to_excel('results.xlsx', index=False)\r\n",
      "  File \"/Users/vision/miniforge3/envs/wikidata-fact-verification/lib/python3.8/site-packages/pandas/core/generic.py\", line 2345, in to_excel\r\n",
      "    formatter.write(\r\n",
      "  File \"/Users/vision/miniforge3/envs/wikidata-fact-verification/lib/python3.8/site-packages/pandas/io/formats/excel.py\", line 888, in write\r\n",
      "    writer = ExcelWriter(  # type: ignore[abstract]\r\n",
      "  File \"/Users/vision/miniforge3/envs/wikidata-fact-verification/lib/python3.8/site-packages/pandas/io/excel/_openpyxl.py\", line 49, in __init__\r\n",
      "    from openpyxl.workbook import Workbook\r\n",
      "ModuleNotFoundError: No module named 'openpyxl'\r\n"
     ]
    }
   ]
  }
 ]
}
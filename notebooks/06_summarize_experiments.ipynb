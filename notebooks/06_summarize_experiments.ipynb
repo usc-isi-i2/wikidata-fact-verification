{
 "cells": [
  {
   "cell_type": "code",
   "execution_count": 1,
   "metadata": {
    "collapsed": true,
    "pycharm": {
     "name": "#%%\n"
    }
   },
   "outputs": [],
   "source": [
    "import os"
   ]
  },
  {
   "cell_type": "code",
   "execution_count": 14,
   "outputs": [
    {
     "name": "stdout",
     "output_type": "stream",
     "text": [
      "--------------------\n",
      "model-base_train-train_direct_2000_train-batch-8_epochs-20.log\n",
      "['eval', '0', '0.9380530973451328', '0.9636363636363636', '0.9506726457399104', '0.945']\n",
      "--------------------\n",
      "model-base_train-train_all_2000_train-batch-8_epochs-20.log\n",
      "['eval', '6', '0.9130434782608695', '0.9545454545454546', '0.9333333333333332', '0.925']\n",
      "--------------------\n",
      "model-base_train-train_indirect_pos_2000_train-batch-8_epochs-20.log\n",
      "['eval', '1', '0.9224137931034483', '0.9727272727272728', '0.9469026548672567', '0.94']\n",
      "--------------------\n",
      "model-base_train-train_indirect_neg_2000_train-batch-8_epochs-20.log\n",
      "['eval', '0', '0.9444444444444444', '0.9272727272727272', '0.9357798165137615', '0.93']\n"
     ]
    }
   ],
   "source": [
    "for file in os.listdir('../experiments'):\n",
    "    best_accuracy, best_metrics = 0, None\n",
    "    with open('../experiments/' + file) as f:\n",
    "        lines = f.readlines()\n",
    "        for line in lines[4:]:\n",
    "            metrics = line.strip().split('\\t')\n",
    "            if metrics[0] == 'eval':\n",
    "                eval_accuracy = float(metrics[-1])\n",
    "                if eval_accuracy > best_accuracy:\n",
    "                    best_accuracy = eval_accuracy\n",
    "                    best_metrics = metrics\n",
    "\n",
    "        print('-'*20)\n",
    "        print(file)\n",
    "        print(best_metrics)"
   ],
   "metadata": {
    "collapsed": false,
    "pycharm": {
     "name": "#%%\n"
    }
   }
  },
  {
   "cell_type": "code",
   "execution_count": null,
   "outputs": [],
   "source": [],
   "metadata": {
    "collapsed": false,
    "pycharm": {
     "name": "#%%\n"
    }
   }
  }
 ],
 "metadata": {
  "kernelspec": {
   "display_name": "Python 3",
   "language": "python",
   "name": "python3"
  },
  "language_info": {
   "codemirror_mode": {
    "name": "ipython",
    "version": 2
   },
   "file_extension": ".py",
   "mimetype": "text/x-python",
   "name": "python",
   "nbconvert_exporter": "python",
   "pygments_lexer": "ipython2",
   "version": "2.7.6"
  }
 },
 "nbformat": 4,
 "nbformat_minor": 0
}
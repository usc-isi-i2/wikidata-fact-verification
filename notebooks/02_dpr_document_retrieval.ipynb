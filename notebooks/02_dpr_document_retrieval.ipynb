{
 "cells": [
  {
   "cell_type": "markdown",
   "metadata": {
    "pycharm": {
     "name": "#%% md\n"
    }
   },
   "source": [
    "# Document retrieval environment setup\n",
    "# conda create\n",
    "`conda create -n pyserini python=3.8`\n",
    "`conda activate pyserini`\n",
    "`conda install -c conda-forge openjdk=11`\n",
    "`pip install pyserini`\n",
    "`pip install torch==1.8.1 torchvision==0.9.1 torchaudio===0.8.1 -f https://download.pytorch.org/whl/torch_stable.html`\n",
    "`conda install faiss-cpu -c pytorch`\n",
    "`pip install ipykernel`\n",
    "`conda install jupyter notebook`"
   ]
  },
  {
   "cell_type": "code",
   "execution_count": 2,
   "metadata": {
    "pycharm": {
     "name": "#%%\n"
    }
   },
   "outputs": [
    {
     "name": "stderr",
     "output_type": "stream",
     "text": [
      "Some weights of the model checkpoint at facebook/dpr-question_encoder-multiset-base were not used when initializing DPRQuestionEncoder: ['question_encoder.bert_model.pooler.dense.weight', 'question_encoder.bert_model.pooler.dense.bias']\n",
      "- This IS expected if you are initializing DPRQuestionEncoder from the checkpoint of a model trained on another task or with another architecture (e.g. initializing a BertForSequenceClassification model from a BertForPreTraining model).\n",
      "- This IS NOT expected if you are initializing DPRQuestionEncoder from the checkpoint of a model that you expect to be exactly identical (initializing a BertForSequenceClassification model from a BertForSequenceClassification model).\n"
     ]
    }
   ],
   "source": [
    "import json\n",
    "from pyserini.search import FaissSearcher\n",
    "from pyserini.search.lucene import LuceneSearcher\n",
    "from tqdm import tqdm\n",
    "from random import seed, shuffle\n",
    "\n",
    "dpr_faiss_index_path = '/data/table-understanding/data/indexes/dindex-wikipedia-dpr_multi-bf-20200127-f403c3.29eb39fe0b00a03c36c0eeae4c24f775'\n",
    "lucene_index_path = '/data/table-understanding/data/indexes/index-wikipedia-dpr-20210120-d1b9e6.c28f3a56b2dfcef25bf3bf755c264d04'\n",
    "searcher = FaissSearcher(dpr_faiss_index_path, 'facebook/dpr-question_encoder-multiset-base')\n",
    "doc_retriever = LuceneSearcher(lucene_index_path)\n",
    "\n",
    "seed(41)"
   ]
  },
  {
   "cell_type": "code",
   "execution_count": 3,
   "metadata": {
    "pycharm": {
     "name": "#%%\n"
    }
   },
   "outputs": [],
   "source": [
    "def get_document_retrieval_data(file_path, count=100):\n",
    "    NAME = 1\n",
    "    SPOUSE_NAME = 3\n",
    "\n",
    "    data = []\n",
    "    with open(file_path) as f:\n",
    "        for line in f:\n",
    "            row = line.strip().split('\\t')\n",
    "            person_one = row[NAME]\n",
    "            person_two = row[SPOUSE_NAME]\n",
    "            data.append({\n",
    "                'pair': (person_one, person_two),\n",
    "                'questions': [f'Is {person_one} married to {person_two}?', f'Is {person_two} married to {person_one}?']\n",
    "            })\n",
    "\n",
    "    shuffle(data)\n",
    "\n",
    "    return data[1:count + 1]"
   ]
  },
  {
   "cell_type": "code",
   "execution_count": 4,
   "metadata": {
    "pycharm": {
     "name": "#%%\n"
    }
   },
   "outputs": [],
   "source": [
    "def retrieve_docs(data):\n",
    "    for spouse_data in tqdm(data):\n",
    "        supports = []\n",
    "        covered_docs_ids = set()\n",
    "        for q in spouse_data['questions']:\n",
    "            hits = searcher.search(q, k=3)\n",
    "            for hit in hits:\n",
    "                score = hit.score\n",
    "                doc_id = hit.docid\n",
    "                if doc_id in covered_docs_ids:\n",
    "                    continue\n",
    "\n",
    "                covered_docs_ids.add(doc_id)\n",
    "                content = json.loads(doc_retriever.doc(hit.docid).raw())['contents']\n",
    "                if all([any([name in content for name in person.split(' ')]) for person in spouse_data['pair']]):\n",
    "                    supports.append({\n",
    "                        'content': content,\n",
    "                        'score': float(score),\n",
    "                        'doc_id': doc_id\n",
    "                    })\n",
    "\n",
    "        spouse_data['supports'] = supports\n",
    "\n",
    "    return data"
   ]
  },
  {
   "cell_type": "code",
   "execution_count": 7,
   "metadata": {
    "pycharm": {
     "name": "#%%\n"
    }
   },
   "outputs": [
    {
     "name": "stderr",
     "output_type": "stream",
     "text": [
      "100%|██████████| 2000/2000 [7:00:02<00:00, 12.60s/it]  \n"
     ]
    }
   ],
   "source": [
    "fact_verification_data = get_document_retrieval_data('./fact_verification_data.tsv', 2000)\n",
    "fact_verification_data = retrieve_docs(fact_verification_data)\n",
    "fact_verification_gt_data = fact_verification_data[:100]\n",
    "fact_verification_train_data = fact_verification_data[100:]\n",
    "\n",
    "only_dbp_data = get_document_retrieval_data('./only_dbp_spouse_data.tsv')\n",
    "only_dbp_data = retrieve_docs(only_dbp_data)"
   ]
  },
  {
   "cell_type": "code",
   "execution_count": 8,
   "metadata": {
    "pycharm": {
     "name": "#%%\n"
    }
   },
   "outputs": [],
   "source": [
    "import json\n",
    "\n",
    "with open('./gt_fact_verification_support_data.json', 'w') as f:\n",
    "    json.dump(fact_verification_gt_data, f)\n",
    "\n",
    "with open('./train_fact_verification_support_data.json', 'w') as f:\n",
    "    json.dump(fact_verification_train_data, f)\n",
    "\n",
    "with open('./gt_only_dbp_support_data.json', 'w') as f:\n",
    "    json.dump(only_dbp_data, f) "
   ]
  }
 ],
 "metadata": {
  "kernelspec": {
   "display_name": "Python 3.8.13 ('pyserini')",
   "language": "python",
   "name": "python3"
  },
  "language_info": {
   "codemirror_mode": {
    "name": "ipython",
    "version": 3
   },
   "file_extension": ".py",
   "mimetype": "text/x-python",
   "name": "python",
   "nbconvert_exporter": "python",
   "pygments_lexer": "ipython3",
   "version": "3.8.13"
  },
  "orig_nbformat": 4,
  "vscode": {
   "interpreter": {
    "hash": "df805160690319c15af0034e91734fff61e623b15638befb08d95652d31bab6c"
   }
  }
 },
 "nbformat": 4,
 "nbformat_minor": 2
}
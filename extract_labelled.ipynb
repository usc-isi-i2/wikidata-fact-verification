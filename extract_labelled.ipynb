{
 "cells": [
  {
   "cell_type": "code",
   "execution_count": 1,
   "metadata": {
    "pycharm": {
     "name": "#%%\n"
    }
   },
   "outputs": [],
   "source": [
    "import json"
   ]
  },
  {
   "cell_type": "code",
   "execution_count": 2,
   "metadata": {
    "pycharm": {
     "name": "#%%\n"
    }
   },
   "outputs": [],
   "source": [
    "def create_ground_truth(input_filepath, output_filepath):\n",
    "    with open(input_filepath) as f:\n",
    "        data = json.load(f)\n",
    "\n",
    "    print(f'create_ground_truth: filepath: {input_filepath}')\n",
    "    print(f'create_ground_truth: raw count: {len(data)}')\n",
    "\n",
    "    gt_data = []\n",
    "    unsupported_facts = 0\n",
    "    selected_facts = 0\n",
    "    for spouse_fact_data in data:\n",
    "        pair = tuple(spouse_fact_data['pair'])\n",
    "\n",
    "        if not spouse_fact_data['supports']:\n",
    "            unsupported_facts += 1\n",
    "            continue\n",
    "\n",
    "        fact_used = False\n",
    "        for support in spouse_fact_data['supports']:\n",
    "            if 'selected' in support and support['selected']:\n",
    "                gt_data.append((pair, support['doc_id'], support['fact_verification_result'], support['content']))\n",
    "                fact_used += True\n",
    "\n",
    "        selected_facts += 1 if fact_used else 0\n",
    "\n",
    "    pos_count = len([d for d in gt_data if d[2]])\n",
    "    neg_count = len([d for d in gt_data if not d[2]])\n",
    "\n",
    "    print(f'create_ground_truth: unsupported facts: {unsupported_facts}')\n",
    "    print(f'create_ground_truth: selected facts: {selected_facts}')\n",
    "    print(f'create_ground_truth: unsupported docs: {unsupported_facts}')\n",
    "    print(f'create_ground_truth: labelled count: {len(gt_data)} (pos: {pos_count}, neg: {neg_count})')\n",
    "\n",
    "    with open(output_filepath, 'w') as f:\n",
    "        json.dump(gt_data, f)\n",
    "\n",
    "    return gt_data"
   ]
  },
  {
   "cell_type": "code",
   "execution_count": 6,
   "outputs": [
    {
     "name": "stdout",
     "output_type": "stream",
     "text": [
      "create_ground_truth: filepath: /Users/vision/projects/abhinav-kumar-thakur/wikidata-fact-verification/data/wiki_dbp_pred.json\n",
      "create_ground_truth: raw count: 100\n",
      "create_ground_truth: unsupported facts: 26\n",
      "create_ground_truth: selected facts: 28\n",
      "create_ground_truth: unsupported docs: 26\n",
      "create_ground_truth: labelled count: 50 (pos: 27, neg: 23)\n"
     ]
    }
   ],
   "source": [
    "wiki_dbp_filepath = '/Users/vision/projects/abhinav-kumar-thakur/wikidata-fact-verification/data/wiki_dbp_pred.json'\n",
    "wiki_dbp_gt_file_path = '/Users/vision/projects/abhinav-kumar-thakur/wikidata-fact-verification/data/wiki_dbp_gt.json'\n",
    "wiki_dbp_gt = create_ground_truth(wiki_dbp_filepath, wiki_dbp_gt_file_path)"
   ],
   "metadata": {
    "collapsed": false,
    "pycharm": {
     "name": "#%%\n"
    }
   }
  },
  {
   "cell_type": "code",
   "execution_count": 4,
   "outputs": [
    {
     "name": "stdout",
     "output_type": "stream",
     "text": [
      "create_ground_truth: filepath: /Users/vision/projects/abhinav-kumar-thakur/wikidata-fact-verification/data/only_dbp_pred.json\n",
      "create_ground_truth: raw count: 100\n",
      "create_ground_truth: unsupported facts: 41\n",
      "create_ground_truth: selected facts: 0\n",
      "create_ground_truth: unsupported docs: 41\n",
      "create_ground_truth: labelled count: 0 (pos: 0, neg: 0)\n"
     ]
    }
   ],
   "source": [
    "only_dbp_filepath = '/Users/vision/projects/abhinav-kumar-thakur/wikidata-fact-verification/data/only_dbp_pred.json'\n",
    "only_dbp_gt_filepath = '/Users/vision/projects/abhinav-kumar-thakur/wikidata-fact-verification/data/only_dbp_gt.json'\n",
    "only_dbp_gt = create_ground_truth(only_dbp_filepath, only_dbp_gt_filepath)"
   ],
   "metadata": {
    "collapsed": false,
    "pycharm": {
     "name": "#%%\n"
    }
   }
  },
  {
   "cell_type": "code",
   "execution_count": 4,
   "outputs": [],
   "source": [],
   "metadata": {
    "collapsed": false,
    "pycharm": {
     "name": "#%%\n"
    }
   }
  }
 ],
 "metadata": {
  "kernelspec": {
   "display_name": "Python 3.8.13 ('wikidata-fact-verification')",
   "language": "python",
   "name": "python3"
  },
  "language_info": {
   "codemirror_mode": {
    "name": "ipython",
    "version": 3
   },
   "file_extension": ".py",
   "mimetype": "text/x-python",
   "name": "python",
   "nbconvert_exporter": "python",
   "pygments_lexer": "ipython3",
   "version": "3.8.13"
  },
  "orig_nbformat": 4,
  "vscode": {
   "interpreter": {
    "hash": "107abf6ab2ac7e320a8aebab088becb15d8b6d06a3a5912712179c7d068e0062"
   }
  }
 },
 "nbformat": 4,
 "nbformat_minor": 2
}